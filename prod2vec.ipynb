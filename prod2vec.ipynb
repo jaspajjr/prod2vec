{
 "cells": [
  {
   "cell_type": "code",
   "execution_count": 1,
   "metadata": {},
   "outputs": [],
   "source": [
    "query = '''\n",
    "SELECT\n",
    "  visitId \n",
    "  , STRING_AGG(p.productSKU ORDER BY h.hitNumber) AS product_sequence\n",
    "FROM `bigquery-public-data.google_analytics_sample.ga_sessions_*`, UNNEST(hits) as h, UNNEST(h.product) as p\n",
    "WHERE _TABLE_SUFFIX BETWEEN '20160801' AND '20160807'\n",
    "  AND p.isClick IS NOT NULL\n",
    "GROUP BY visitId\n",
    "'''"
   ]
  },
  {
   "cell_type": "code",
   "execution_count": 2,
   "metadata": {},
   "outputs": [],
   "source": [
    "import pandas as pd\n",
    "from gensim.models import Word2Vec\n",
    "from google.oauth2.service_account import Credentials"
   ]
  },
  {
   "cell_type": "code",
   "execution_count": 3,
   "metadata": {},
   "outputs": [],
   "source": [
    "class ProductSequences:\n",
    "    '''\n",
    "    ProductSequences\n",
    "    '''\n",
    "    def __init__(self, df_column):\n",
    "        df_column = df_column.copy()\n",
    "        self.sequences = df_column.values.tolist()\n",
    "\n",
    "    def __iter__(self):\n",
    "        for sequence in self.sequences:\n",
    "            yield sequence.split(',')"
   ]
  },
  {
   "cell_type": "code",
   "execution_count": 5,
   "metadata": {},
   "outputs": [
    {
     "name": "stdout",
     "output_type": "stream",
     "text": [
      "<class 'pandas.core.frame.DataFrame'>\n",
      "RangeIndex: 3019 entries, 0 to 3018\n",
      "Data columns (total 2 columns):\n",
      "visitId             3019 non-null int64\n",
      "product_sequence    3019 non-null object\n",
      "dtypes: int64(1), object(1)\n",
      "memory usage: 47.3+ KB\n",
      "None\n"
     ]
    },
    {
     "data": {
      "text/html": [
       "<div>\n",
       "<style scoped>\n",
       "    .dataframe tbody tr th:only-of-type {\n",
       "        vertical-align: middle;\n",
       "    }\n",
       "\n",
       "    .dataframe tbody tr th {\n",
       "        vertical-align: top;\n",
       "    }\n",
       "\n",
       "    .dataframe thead th {\n",
       "        text-align: right;\n",
       "    }\n",
       "</style>\n",
       "<table border=\"1\" class=\"dataframe\">\n",
       "  <thead>\n",
       "    <tr style=\"text-align: right;\">\n",
       "      <th></th>\n",
       "      <th>visitId</th>\n",
       "      <th>product_sequence</th>\n",
       "    </tr>\n",
       "  </thead>\n",
       "  <tbody>\n",
       "    <tr>\n",
       "      <th>0</th>\n",
       "      <td>1470193777</td>\n",
       "      <td>GGOEGBRJ037399</td>\n",
       "    </tr>\n",
       "    <tr>\n",
       "      <th>1</th>\n",
       "      <td>1470146349</td>\n",
       "      <td>GGOEGBRA037499</td>\n",
       "    </tr>\n",
       "    <tr>\n",
       "      <th>2</th>\n",
       "      <td>1470126740</td>\n",
       "      <td>GGOEGBRA037499</td>\n",
       "    </tr>\n",
       "    <tr>\n",
       "      <th>3</th>\n",
       "      <td>1470183593</td>\n",
       "      <td>GGOEAFKQ020599</td>\n",
       "    </tr>\n",
       "    <tr>\n",
       "      <th>4</th>\n",
       "      <td>1470193792</td>\n",
       "      <td>GGOEGBRJ037399</td>\n",
       "    </tr>\n",
       "  </tbody>\n",
       "</table>\n",
       "</div>"
      ],
      "text/plain": [
       "      visitId product_sequence\n",
       "0  1470193777   GGOEGBRJ037399\n",
       "1  1470146349   GGOEGBRA037499\n",
       "2  1470126740   GGOEGBRA037499\n",
       "3  1470183593   GGOEAFKQ020599\n",
       "4  1470193792   GGOEGBRJ037399"
      ]
     },
     "execution_count": 5,
     "metadata": {},
     "output_type": "execute_result"
    }
   ],
   "source": [
    "df = pd.read_gbq(query,\n",
    "                 credentials=Credentials.from_service_account_file('./private-key.json'))\n",
    "\n",
    "print(df.info())\n",
    "\n",
    "df.head()"
   ]
  },
  {
   "cell_type": "code",
   "execution_count": 6,
   "metadata": {},
   "outputs": [],
   "source": [
    "model = Word2Vec(ProductSequences(df.product_sequence), min_count=10, sg=1)"
   ]
  },
  {
   "cell_type": "code",
   "execution_count": 7,
   "metadata": {},
   "outputs": [],
   "source": [
    "embeddings_dict = dict(zip(model.wv.index2word, model.wv.vectors))"
   ]
  }
 ],
 "metadata": {
  "kernelspec": {
   "display_name": "Python 3",
   "language": "python",
   "name": "python3"
  },
  "language_info": {
   "codemirror_mode": {
    "name": "ipython",
    "version": 3
   },
   "file_extension": ".py",
   "mimetype": "text/x-python",
   "name": "python",
   "nbconvert_exporter": "python",
   "pygments_lexer": "ipython3",
   "version": "3.7.5"
  }
 },
 "nbformat": 4,
 "nbformat_minor": 4
}
